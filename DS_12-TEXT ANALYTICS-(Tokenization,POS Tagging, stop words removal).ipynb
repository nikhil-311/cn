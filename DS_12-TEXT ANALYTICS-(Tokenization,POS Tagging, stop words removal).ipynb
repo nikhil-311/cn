{
 "cells": [
  {
   "cell_type": "markdown",
   "id": "7c55c0b0-998e-4243-816e-40da7d6083be",
   "metadata": {},
   "source": [
    "# PRACTICAL NO. 12\n",
    "# TEXT ANALYTICS"
   ]
  },
  {
   "cell_type": "markdown",
   "id": "c2d3b354-2f66-4d8a-9d47-2368c266d2b7",
   "metadata": {},
   "source": [
    "https://www.youtube.com/watch?v=8F_ERPqN0T0\n",
    "1. Extract Sample document and apply following document preprocessing\n",
    "methods: Tokenization,POS Tagging, stop words removal, Stemming and\n",
    "Lemmatization.\n",
    "2. Create representation of document by calculating Term Frequency and\n",
    "Inverse Document Frequency.\n"
   ]
  },
  {
   "cell_type": "markdown",
   "id": "9886d6be-5f5b-4448-b23b-4f4f2297f619",
   "metadata": {},
   "source": [
    "# THE nltk.download() STATEMENTS NEEDS INTERNET TO EXECUTE (if it was never downloaded in your system)"
   ]
  },
  {
   "cell_type": "code",
   "execution_count": 1,
   "id": "efa45931-25b6-4d7c-8951-d085fdb46dfc",
   "metadata": {},
   "outputs": [
    {
     "name": "stderr",
     "output_type": "stream",
     "text": [
      "[nltk_data] Downloading package punkt to\n",
      "[nltk_data]     C:\\Users\\shiva\\AppData\\Roaming\\nltk_data...\n",
      "[nltk_data]   Package punkt is already up-to-date!\n"
     ]
    },
    {
     "data": {
      "text/plain": [
       "True"
      ]
     },
     "execution_count": 1,
     "metadata": {},
     "output_type": "execute_result"
    }
   ],
   "source": [
    "import nltk\n",
    "nltk.download('punkt')"
   ]
  },
  {
   "cell_type": "markdown",
   "id": "423415db-d0d5-410d-83de-19b07736c94b",
   "metadata": {},
   "source": [
    "# Sample Sentence"
   ]
  },
  {
   "cell_type": "code",
   "execution_count": 2,
   "id": "e7ecfb7b-118f-4357-90e7-8315dd8d1e79",
   "metadata": {},
   "outputs": [],
   "source": [
    "sample_document = \"\"\" Natural language processing (NLP) is a subfield of artificial intelligence (AI) that focuses on the interaction between computers and human languages.\n",
    "It involves tasks like text analysis, translation, sentiment analysis, and more.\n",
    "\"\"\""
   ]
  },
  {
   "cell_type": "markdown",
   "id": "89b707ff-a066-4a6b-a135-f9495d1c7eab",
   "metadata": {},
   "source": [
    "# Tokenization"
   ]
  },
  {
   "cell_type": "code",
   "execution_count": 3,
   "id": "ff54296e-91e9-45cb-a8ea-1824f6c5ef21",
   "metadata": {},
   "outputs": [
    {
     "data": {
      "text/plain": [
       "['Natural',\n",
       " 'language',\n",
       " 'processing',\n",
       " '(',\n",
       " 'NLP',\n",
       " ')',\n",
       " 'is',\n",
       " 'a',\n",
       " 'subfield',\n",
       " 'of',\n",
       " 'artificial',\n",
       " 'intelligence',\n",
       " '(',\n",
       " 'AI',\n",
       " ')',\n",
       " 'that',\n",
       " 'focuses',\n",
       " 'on',\n",
       " 'the',\n",
       " 'interaction',\n",
       " 'between',\n",
       " 'computers',\n",
       " 'and',\n",
       " 'human',\n",
       " 'languages',\n",
       " '.',\n",
       " 'It',\n",
       " 'involves',\n",
       " 'tasks',\n",
       " 'like',\n",
       " 'text',\n",
       " 'analysis',\n",
       " ',',\n",
       " 'translation',\n",
       " ',',\n",
       " 'sentiment',\n",
       " 'analysis',\n",
       " ',',\n",
       " 'and',\n",
       " 'more',\n",
       " '.']"
      ]
     },
     "execution_count": 3,
     "metadata": {},
     "output_type": "execute_result"
    }
   ],
   "source": [
    "from nltk.tokenize import word_tokenize\n",
    "tokens = word_tokenize(sample_document)\n",
    "tokens"
   ]
  },
  {
   "cell_type": "code",
   "execution_count": 4,
   "id": "89b38928-b5bf-43d2-9a5c-d2cc0b24f4ce",
   "metadata": {},
   "outputs": [
    {
     "data": {
      "text/plain": [
       "[' Natural language processing (NLP) is a subfield of artificial intelligence (AI) that focuses on the interaction between computers and human languages.',\n",
       " 'It involves tasks like text analysis, translation, sentiment analysis, and more.']"
      ]
     },
     "execution_count": 4,
     "metadata": {},
     "output_type": "execute_result"
    }
   ],
   "source": [
    "from nltk.tokenize import sent_tokenize\n",
    "sentences = sent_tokenize(sample_document)\n",
    "sentences"
   ]
  },
  {
   "cell_type": "markdown",
   "id": "1415d848-b970-4b85-86d1-3d40251d878f",
   "metadata": {},
   "source": [
    "# POS tagging"
   ]
  },
  {
   "cell_type": "code",
   "execution_count": 5,
   "id": "60e86b14-8dc7-4068-86b7-4835194e4a5f",
   "metadata": {},
   "outputs": [
    {
     "name": "stderr",
     "output_type": "stream",
     "text": [
      "[nltk_data] Downloading package averaged_perceptron_tagger to\n",
      "[nltk_data]     C:\\Users\\shiva\\AppData\\Roaming\\nltk_data...\n",
      "[nltk_data]   Package averaged_perceptron_tagger is already up-to-\n",
      "[nltk_data]       date!\n"
     ]
    },
    {
     "data": {
      "text/plain": [
       "True"
      ]
     },
     "execution_count": 5,
     "metadata": {},
     "output_type": "execute_result"
    }
   ],
   "source": [
    "nltk.download('averaged_perceptron_tagger')"
   ]
  },
  {
   "cell_type": "code",
   "execution_count": 6,
   "id": "0e22ec04-daae-4f06-ae99-9e3d59f79cac",
   "metadata": {},
   "outputs": [
    {
     "data": {
      "text/plain": [
       "[('Natural', 'JJ'),\n",
       " ('language', 'NN'),\n",
       " ('processing', 'NN'),\n",
       " ('(', '('),\n",
       " ('NLP', 'NNP'),\n",
       " (')', ')'),\n",
       " ('is', 'VBZ'),\n",
       " ('a', 'DT'),\n",
       " ('subfield', 'NN'),\n",
       " ('of', 'IN'),\n",
       " ('artificial', 'JJ'),\n",
       " ('intelligence', 'NN'),\n",
       " ('(', '('),\n",
       " ('AI', 'NNP'),\n",
       " (')', ')'),\n",
       " ('that', 'WDT'),\n",
       " ('focuses', 'VBZ'),\n",
       " ('on', 'IN'),\n",
       " ('the', 'DT'),\n",
       " ('interaction', 'NN'),\n",
       " ('between', 'IN'),\n",
       " ('computers', 'NNS'),\n",
       " ('and', 'CC'),\n",
       " ('human', 'JJ'),\n",
       " ('languages', 'NNS'),\n",
       " ('.', '.'),\n",
       " ('It', 'PRP'),\n",
       " ('involves', 'VBZ'),\n",
       " ('tasks', 'NNS'),\n",
       " ('like', 'IN'),\n",
       " ('text', 'NN'),\n",
       " ('analysis', 'NN'),\n",
       " (',', ','),\n",
       " ('translation', 'NN'),\n",
       " (',', ','),\n",
       " ('sentiment', 'NN'),\n",
       " ('analysis', 'NN'),\n",
       " (',', ','),\n",
       " ('and', 'CC'),\n",
       " ('more', 'JJR'),\n",
       " ('.', '.')]"
      ]
     },
     "execution_count": 6,
     "metadata": {},
     "output_type": "execute_result"
    }
   ],
   "source": [
    "nltk.pos_tag(tokens)"
   ]
  },
  {
   "cell_type": "markdown",
   "id": "4b992e07-ea00-42f6-86f2-c741da5a1161",
   "metadata": {},
   "source": [
    "# Stopwords"
   ]
  },
  {
   "cell_type": "code",
   "execution_count": 7,
   "id": "296d5ab4-6780-46f5-9029-e0017318e623",
   "metadata": {},
   "outputs": [
    {
     "name": "stderr",
     "output_type": "stream",
     "text": [
      "[nltk_data] Downloading package stopwords to\n",
      "[nltk_data]     C:\\Users\\shiva\\AppData\\Roaming\\nltk_data...\n",
      "[nltk_data]   Package stopwords is already up-to-date!\n"
     ]
    },
    {
     "data": {
      "text/plain": [
       "True"
      ]
     },
     "execution_count": 7,
     "metadata": {},
     "output_type": "execute_result"
    }
   ],
   "source": [
    "nltk.download('stopwords')"
   ]
  },
  {
   "cell_type": "code",
   "execution_count": 8,
   "id": "e89d0d17-2cbf-4c7f-8fa9-81f996d160e5",
   "metadata": {},
   "outputs": [],
   "source": [
    "from nltk.corpus import stopwords\n",
    "stop_words = set(stopwords.words('english'))"
   ]
  },
  {
   "cell_type": "code",
   "execution_count": 9,
   "id": "5a283c0e-144e-4c67-9571-134937dd4c2a",
   "metadata": {},
   "outputs": [
    {
     "data": {
      "text/plain": [
       "['Natural',\n",
       " 'language',\n",
       " 'processing',\n",
       " '(',\n",
       " 'NLP',\n",
       " ')',\n",
       " 'subfield',\n",
       " 'artificial',\n",
       " 'intelligence',\n",
       " '(',\n",
       " 'AI',\n",
       " ')',\n",
       " 'focuses',\n",
       " 'interaction',\n",
       " 'computers',\n",
       " 'human',\n",
       " 'languages',\n",
       " '.',\n",
       " 'involves',\n",
       " 'tasks',\n",
       " 'like',\n",
       " 'text',\n",
       " 'analysis',\n",
       " ',',\n",
       " 'translation',\n",
       " ',',\n",
       " 'sentiment',\n",
       " 'analysis',\n",
       " ',',\n",
       " '.']"
      ]
     },
     "execution_count": 9,
     "metadata": {},
     "output_type": "execute_result"
    }
   ],
   "source": [
    "filtered_tokens = [word for word in tokens if word.lower() not in stop_words]\n",
    "filtered_tokens"
   ]
  },
  {
   "cell_type": "markdown",
   "id": "aacb52a1-b72a-454a-baf7-eb9c2bfb0a83",
   "metadata": {},
   "source": [
    "# Stemming"
   ]
  },
  {
   "cell_type": "code",
   "execution_count": 10,
   "id": "fda76f06-bcab-40aa-af53-7a7d52ac928d",
   "metadata": {},
   "outputs": [],
   "source": [
    "from nltk.stem import PorterStemmer\n",
    "ps = PorterStemmer()"
   ]
  },
  {
   "cell_type": "code",
   "execution_count": 11,
   "id": "3cd8520c-d42f-4c73-bc88-115a26cf17fd",
   "metadata": {},
   "outputs": [
    {
     "data": {
      "text/plain": [
       "['natur',\n",
       " 'languag',\n",
       " 'process',\n",
       " '(',\n",
       " 'nlp',\n",
       " ')',\n",
       " 'subfield',\n",
       " 'artifici',\n",
       " 'intellig',\n",
       " '(',\n",
       " 'ai',\n",
       " ')',\n",
       " 'focus',\n",
       " 'interact',\n",
       " 'comput',\n",
       " 'human',\n",
       " 'languag',\n",
       " '.',\n",
       " 'involv',\n",
       " 'task',\n",
       " 'like',\n",
       " 'text',\n",
       " 'analysi',\n",
       " ',',\n",
       " 'translat',\n",
       " ',',\n",
       " 'sentiment',\n",
       " 'analysi',\n",
       " ',',\n",
       " '.']"
      ]
     },
     "execution_count": 11,
     "metadata": {},
     "output_type": "execute_result"
    }
   ],
   "source": [
    "stemmed_tokens = [ps.stem(word) for word in filtered_tokens]\n",
    "stemmed_tokens"
   ]
  },
  {
   "cell_type": "markdown",
   "id": "a8777ac7-d3c0-4247-9109-081d31e42deb",
   "metadata": {},
   "source": [
    "# Lemmatizing"
   ]
  },
  {
   "cell_type": "code",
   "execution_count": 12,
   "id": "6b1f7d4c-6308-4d79-8d86-476b4d094b63",
   "metadata": {},
   "outputs": [
    {
     "name": "stderr",
     "output_type": "stream",
     "text": [
      "[nltk_data] Downloading package wordnet to\n",
      "[nltk_data]     C:\\Users\\shiva\\AppData\\Roaming\\nltk_data...\n",
      "[nltk_data]   Package wordnet is already up-to-date!\n"
     ]
    }
   ],
   "source": [
    "nltk.download('wordnet')\n",
    "from nltk.stem import WordNetLemmatizer\n",
    "lemmatizer = WordNetLemmatizer()"
   ]
  },
  {
   "cell_type": "code",
   "execution_count": 13,
   "id": "9cfb5f2a-9084-4a5d-9524-8367e56180b9",
   "metadata": {},
   "outputs": [
    {
     "data": {
      "text/plain": [
       "['Natural',\n",
       " 'language',\n",
       " 'processing',\n",
       " '(',\n",
       " 'NLP',\n",
       " ')',\n",
       " 'subfield',\n",
       " 'artificial',\n",
       " 'intelligence',\n",
       " '(',\n",
       " 'AI',\n",
       " ')',\n",
       " 'focus',\n",
       " 'interaction',\n",
       " 'computer',\n",
       " 'human',\n",
       " 'language',\n",
       " '.',\n",
       " 'involves',\n",
       " 'task',\n",
       " 'like',\n",
       " 'text',\n",
       " 'analysis',\n",
       " ',',\n",
       " 'translation',\n",
       " ',',\n",
       " 'sentiment',\n",
       " 'analysis',\n",
       " ',',\n",
       " '.']"
      ]
     },
     "execution_count": 13,
     "metadata": {},
     "output_type": "execute_result"
    }
   ],
   "source": [
    "lemmatized_tokens = [lemmatizer.lemmatize(word) for word in filtered_tokens]\n",
    "lemmatized_tokens"
   ]
  },
  {
   "cell_type": "markdown",
   "id": "5a188fd5-9226-4ad7-b9fa-b8150165baa3",
   "metadata": {},
   "source": [
    "# TF-IDF"
   ]
  },
  {
   "cell_type": "code",
   "execution_count": 14,
   "id": "e33d98f1-14b0-4db0-992e-d17aa0b559c8",
   "metadata": {},
   "outputs": [],
   "source": [
    "from sklearn.feature_extraction.text import TfidfVectorizer\n",
    "corpus = [sample_document]"
   ]
  },
  {
   "cell_type": "code",
   "execution_count": 15,
   "id": "da031aed-5544-4b13-8748-08741a9f9fae",
   "metadata": {},
   "outputs": [],
   "source": [
    "vectorizer = TfidfVectorizer()\n",
    "X = vectorizer.fit_transform(corpus)"
   ]
  },
  {
   "cell_type": "code",
   "execution_count": 16,
   "id": "e7f48cfb-703b-46ce-b899-0cd1350345e4",
   "metadata": {},
   "outputs": [],
   "source": [
    "terms = vectorizer.get_feature_names_out()\n",
    "tfidf_values = X.toarray()"
   ]
  },
  {
   "cell_type": "code",
   "execution_count": 17,
   "id": "af022db6-7475-45be-8eff-eb036b3f6b2a",
   "metadata": {},
   "outputs": [
    {
     "name": "stdout",
     "output_type": "stream",
     "text": [
      "Term Frequency-Inverse Document Frequency (TF-IDF):\n",
      "ai: 0.1690308509457033\n",
      "analysis: 0.3380617018914066\n",
      "and: 0.3380617018914066\n",
      "artificial: 0.1690308509457033\n",
      "between: 0.1690308509457033\n",
      "computers: 0.1690308509457033\n",
      "focuses: 0.1690308509457033\n",
      "human: 0.1690308509457033\n",
      "intelligence: 0.1690308509457033\n",
      "interaction: 0.1690308509457033\n",
      "involves: 0.1690308509457033\n",
      "is: 0.1690308509457033\n",
      "it: 0.1690308509457033\n",
      "language: 0.1690308509457033\n",
      "languages: 0.1690308509457033\n",
      "like: 0.1690308509457033\n",
      "more: 0.1690308509457033\n",
      "natural: 0.1690308509457033\n",
      "nlp: 0.1690308509457033\n",
      "of: 0.1690308509457033\n",
      "on: 0.1690308509457033\n",
      "processing: 0.1690308509457033\n",
      "sentiment: 0.1690308509457033\n",
      "subfield: 0.1690308509457033\n",
      "tasks: 0.1690308509457033\n",
      "text: 0.1690308509457033\n",
      "that: 0.1690308509457033\n",
      "the: 0.1690308509457033\n",
      "translation: 0.1690308509457033\n"
     ]
    }
   ],
   "source": [
    "print(\"Term Frequency-Inverse Document Frequency (TF-IDF):\")\n",
    "for i in range(len(terms)):\n",
    "    print(f\"{terms[i]}: {tfidf_values[0][i]}\")"
   ]
  },
  {
   "cell_type": "code",
   "execution_count": null,
   "id": "c37a1bcc-9029-4705-b17f-ca22b8cf0a68",
   "metadata": {},
   "outputs": [],
   "source": []
  }
 ],
 "metadata": {
  "kernelspec": {
   "display_name": "Python 3 (ipykernel)",
   "language": "python",
   "name": "python3"
  },
  "language_info": {
   "codemirror_mode": {
    "name": "ipython",
    "version": 3
   },
   "file_extension": ".py",
   "mimetype": "text/x-python",
   "name": "python",
   "nbconvert_exporter": "python",
   "pygments_lexer": "ipython3",
   "version": "3.11.9"
  }
 },
 "nbformat": 4,
 "nbformat_minor": 5
}
